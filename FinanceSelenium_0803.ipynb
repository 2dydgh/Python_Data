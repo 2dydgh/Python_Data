{
 "cells": [
  {
   "cell_type": "code",
   "execution_count": 24,
   "metadata": {},
   "outputs": [
    {
     "name": "stdout",
     "output_type": "stream",
     "text": [
      "KODEX 코스닥150선물인버스 3,510 하락35 -0.99%\n",
      "KODEX 200선물인버스2X 2,470 보합 0.00%\n",
      "대창 1,947 상승320 +19.67%\n",
      "상보 2,320 상승225 +10.74%\n",
      "이구산업 6,710 상승500 +8.05%\n",
      "휴마시스 2,800 상승365 +14.99%\n",
      "원익피앤이 13,840 상승1,840 +15.33%\n",
      "크리스탈신소재 3,120 상승70 +2.30%\n",
      "LS전선아시아 12,690 상승2,200 +20.97%\n",
      "파워로직스 11,950 상승1,890 +18.79%\n",
      "KODEX 인버스 4,465 상승5 +0.11%\n",
      "KODEX 코스닥150레버리지 13,660 상승255 +1.90%\n",
      "광명전기 2,925 상승145 +5.22%\n",
      "서원 2,220 상승512 +29.98%\n",
      "모비스 4,715 상승1,030 +27.95%\n"
     ]
    }
   ],
   "source": [
    "# selenium의 차이 : 크롬 브라우저를 띄운다.\n",
    "\n",
    "import time\n",
    "from selenium import webdriver\n",
    "from selenium.webdriver.common.by import By\n",
    "from selenium.webdriver.chrome.service import Service\n",
    "from webdriver_manager.chrome import ChromeDriverManager\n",
    "\n",
    "service = Service()\n",
    "d = webdriver.Chrome(service=service)\n",
    "\n",
    "try:\n",
    "    d.get(\"https://finance.naver.com/\")\n",
    "    \n",
    "    time.sleep(0.5)\n",
    "    # 방법 1) 문제점 : 태그 이름만으로 검색하는건 위험하다.\n",
    "#     section = d.find_element(By.CSS_SELECTOR,\"#_topItems1\")\n",
    "#     trs = section.find_elements(By.CSS_SELECTOR, \"tr\")\n",
    "    \n",
    "    # 방법 2) 이렇게  쓰는게 훨씬 안전하다!\n",
    "    trs = d.find_elements(By.CSS_SELECTOR, \"#_topItems1 > tr\")\n",
    "    \n",
    "    for tr in trs:\n",
    "        name = tr.find_element(By.CSS_SELECTOR,\"th > a\")  # th 바로 밑에 a\n",
    "        name = name.text\n",
    "\n",
    "        tds = tr.find_elements(By.CSS_SELECTOR,\"td\")\n",
    "        price = tds[0].text.strip()\n",
    "        diff = tds[1].text.replace(\"\\n\", \"\").strip()   # diff에 자체적으로 enter가 있어서 없애줘야한다!\n",
    "        rate = tds[2].text.strip()\n",
    "\n",
    "        print(name,price,diff,rate)\n",
    "    \n",
    "except Exception as e:            # except는 필수! 오류났을 경우 error 메시지 출력\n",
    "    print(e)\n",
    "finally:                          # finally는 선택사항 error가 날지도 모르는 사항\n",
    "    time.sleep(2)\n",
    "    d.close()\n",
    "    d.quit()"
   ]
  },
  {
   "cell_type": "code",
   "execution_count": null,
   "metadata": {},
   "outputs": [],
   "source": []
  }
 ],
 "metadata": {
  "kernelspec": {
   "display_name": "Python 3",
   "language": "python",
   "name": "python3"
  },
  "language_info": {
   "codemirror_mode": {
    "name": "ipython",
    "version": 3
   },
   "file_extension": ".py",
   "mimetype": "text/x-python",
   "name": "python",
   "nbconvert_exporter": "python",
   "pygments_lexer": "ipython3",
   "version": "3.7.9"
  }
 },
 "nbformat": 4,
 "nbformat_minor": 4
}
