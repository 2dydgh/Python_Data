{
 "cells": [
  {
   "cell_type": "code",
   "execution_count": 2,
   "id": "36c3e7ff-9ca8-4059-870e-2653462d69a5",
   "metadata": {},
   "outputs": [
    {
     "name": "stdout",
     "output_type": "stream",
     "text": [
      "Collecting opencv-python\n",
      "  Obtaining dependency information for opencv-python from https://files.pythonhosted.org/packages/fb/c4/f574ba6f04e6d7bf8c38d23e7a52389566dd7631fee0bcdd79ea07ef2dbf/opencv_python-4.8.0.76-cp37-abi3-win_amd64.whl.metadata\n",
      "  Downloading opencv_python-4.8.0.76-cp37-abi3-win_amd64.whl.metadata (20 kB)\n",
      "Requirement already satisfied: numpy>=1.21.2 in c:\\users\\user\\appdata\\local\\programs\\python\\python311\\lib\\site-packages (from opencv-python) (1.25.2)\n",
      "Downloading opencv_python-4.8.0.76-cp37-abi3-win_amd64.whl (38.1 MB)\n",
      "   ---------------------------------------- 0.0/38.1 MB ? eta -:--:--\n",
      "   - -------------------------------------- 1.0/38.1 MB 33.4 MB/s eta 0:00:02\n",
      "   - -------------------------------------- 1.2/38.1 MB 15.8 MB/s eta 0:00:03\n",
      "   -- ------------------------------------- 2.5/38.1 MB 19.8 MB/s eta 0:00:02\n",
      "   ---- ----------------------------------- 3.8/38.1 MB 22.1 MB/s eta 0:00:02\n",
      "   ----- ---------------------------------- 5.0/38.1 MB 23.0 MB/s eta 0:00:02\n",
      "   ------ --------------------------------- 6.3/38.1 MB 23.8 MB/s eta 0:00:02\n",
      "   -------- ------------------------------- 7.6/38.1 MB 24.5 MB/s eta 0:00:02\n",
      "   -------- ------------------------------- 8.4/38.1 MB 24.3 MB/s eta 0:00:02\n",
      "   --------- ------------------------------ 9.1/38.1 MB 22.4 MB/s eta 0:00:02\n",
      "   ---------- ----------------------------- 9.7/38.1 MB 21.4 MB/s eta 0:00:02\n",
      "   ----------- ---------------------------- 11.0/38.1 MB 22.6 MB/s eta 0:00:02\n",
      "   ------------ --------------------------- 12.3/38.1 MB 24.2 MB/s eta 0:00:02\n",
      "   -------------- ------------------------- 13.5/38.1 MB 24.2 MB/s eta 0:00:02\n",
      "   --------------- ------------------------ 14.8/38.1 MB 24.2 MB/s eta 0:00:01\n",
      "   ---------------- ----------------------- 16.0/38.1 MB 24.2 MB/s eta 0:00:01\n",
      "   ------------------ --------------------- 17.3/38.1 MB 24.2 MB/s eta 0:00:01\n",
      "   ------------------- -------------------- 18.6/38.1 MB 23.4 MB/s eta 0:00:01\n",
      "   -------------------- ------------------- 19.9/38.1 MB 28.5 MB/s eta 0:00:01\n",
      "   ---------------------- ----------------- 21.2/38.1 MB 27.3 MB/s eta 0:00:01\n",
      "   ----------------------- ---------------- 22.3/38.1 MB 27.3 MB/s eta 0:00:01\n",
      "   ------------------------ --------------- 23.5/38.1 MB 28.5 MB/s eta 0:00:01\n",
      "   ------------------------- -------------- 24.5/38.1 MB 27.3 MB/s eta 0:00:01\n",
      "   -------------------------- ------------- 25.6/38.1 MB 26.2 MB/s eta 0:00:01\n",
      "   ---------------------------- ----------- 26.8/38.1 MB 26.2 MB/s eta 0:00:01\n",
      "   ----------------------------- ---------- 28.1/38.1 MB 26.2 MB/s eta 0:00:01\n",
      "   ------------------------------ --------- 28.9/38.1 MB 25.2 MB/s eta 0:00:01\n",
      "   ------------------------------- -------- 30.1/38.1 MB 25.1 MB/s eta 0:00:01\n",
      "   -------------------------------- ------- 31.4/38.1 MB 25.1 MB/s eta 0:00:01\n",
      "   ---------------------------------- ----- 32.7/38.1 MB 25.2 MB/s eta 0:00:01\n",
      "   ----------------------------------- ---- 33.9/38.1 MB 25.2 MB/s eta 0:00:01\n",
      "   ------------------------------------- -- 35.2/38.1 MB 26.2 MB/s eta 0:00:01\n",
      "   -------------------------------------- - 36.5/38.1 MB 27.3 MB/s eta 0:00:01\n",
      "   ---------------------------------------  37.8/38.1 MB 27.3 MB/s eta 0:00:01\n",
      "   ---------------------------------------  38.1/38.1 MB 27.3 MB/s eta 0:00:01\n",
      "   ---------------------------------------  38.1/38.1 MB 27.3 MB/s eta 0:00:01\n",
      "   ---------------------------------------  38.1/38.1 MB 27.3 MB/s eta 0:00:01\n",
      "   ---------------------------------------  38.1/38.1 MB 27.3 MB/s eta 0:00:01\n",
      "   ---------------------------------------- 38.1/38.1 MB 18.2 MB/s eta 0:00:00\n",
      "Installing collected packages: opencv-python\n",
      "Successfully installed opencv-python-4.8.0.76\n",
      "Note: you may need to restart the kernel to use updated packages.\n"
     ]
    }
   ],
   "source": [
    "pip install opencv-python"
   ]
  },
  {
   "cell_type": "code",
   "execution_count": 2,
   "id": "051212be-5c84-449d-b420-5ac7bc89d526",
   "metadata": {},
   "outputs": [],
   "source": [
    "import cv2\n",
    "\n",
    "# 동영상 파일의 경로\n",
    "video_path = \"C:\\\\Users\\\\user\\\\Desktop\\\\Python_Data\\\\230816.mp4\"\n",
    "\n",
    "# 동영상 파일 열기\n",
    "video = cv2.VideoCapture(video_path)\n",
    "\n",
    "# 동영상 정보\n",
    "length = int(video.get(cv2.CAP_PROP_FRAME_COUNT))\n",
    "width = int(video.get(cv2.CAP_PROP_FRAME_WIDTH))\n",
    "height = int(video.get(cv2.CAP_PROP_FRAME_HEIGHT))\n",
    "fps = video.get(cv2.CAP_PROP_FPS)\n",
    "\n",
    "# 동영상의 프레임 수\n",
    "# frame_count = int(video.get(cv2.CAP_PROP_FRAME_COUNT))\n",
    "frame_count = int(video.get(cv2.CAP_PROP_FRAME_COUNT))\n",
    "\n",
    "# 프레임을 이미지로 변환하고 파일로 저장\n",
    "for i in range(frame_count):\n",
    "    ret, frame = video.read()\n",
    "    if ret:\n",
    "        image_path = f\"C:\\\\Users\\\\user\\\\Desktop\\\\Python_Data\\\\img\\\\0816\\\\image_{i}.jpg\"\n",
    "        cv2.imwrite(image_path, frame)\n",
    "\n",
    "# 동영상 파일 닫기\n",
    "video.release()"
   ]
  },
  {
   "cell_type": "code",
   "execution_count": 5,
   "id": "74ddbd3f-9b53-4e0c-aceb-3d24e728ffcc",
   "metadata": {},
   "outputs": [
    {
     "ename": "FileNotFoundError",
     "evalue": "[Errno 2] No such file or directory: 'C:\\\\Users\\\\user\\\\Desktop\\\\Python_Data\\\\img\\\\0816\\\\1.jpg'",
     "output_type": "error",
     "traceback": [
      "\u001b[1;31m---------------------------------------------------------------------------\u001b[0m",
      "\u001b[1;31mFileNotFoundError\u001b[0m                         Traceback (most recent call last)",
      "Cell \u001b[1;32mIn[5], line 29\u001b[0m\n\u001b[0;32m     27\u001b[0m \u001b[38;5;28;01mfor\u001b[39;00m i \u001b[38;5;129;01min\u001b[39;00m \u001b[38;5;28mrange\u001b[39m(\u001b[38;5;241m1\u001b[39m,\u001b[38;5;241m3661\u001b[39m):\n\u001b[0;32m     28\u001b[0m     a \u001b[38;5;241m=\u001b[39m img_devide(\u001b[38;5;124m\"\u001b[39m\u001b[38;5;124mC:\u001b[39m\u001b[38;5;130;01m\\\\\u001b[39;00m\u001b[38;5;124mUsers\u001b[39m\u001b[38;5;130;01m\\\\\u001b[39;00m\u001b[38;5;124muser\u001b[39m\u001b[38;5;130;01m\\\\\u001b[39;00m\u001b[38;5;124mDesktop\u001b[39m\u001b[38;5;130;01m\\\\\u001b[39;00m\u001b[38;5;124mPython_Data\u001b[39m\u001b[38;5;130;01m\\\\\u001b[39;00m\u001b[38;5;124mimg\u001b[39m\u001b[38;5;130;01m\\\\\u001b[39;00m\u001b[38;5;124m0816\u001b[39m\u001b[38;5;130;01m\\\\\u001b[39;00m\u001b[38;5;124m\"\u001b[39m, i) \u001b[38;5;66;03m# 파일의 경로\u001b[39;00m\n\u001b[1;32m---> 29\u001b[0m     \u001b[43ma\u001b[49m\u001b[38;5;241;43m.\u001b[39;49m\u001b[43mset_image\u001b[49m\u001b[43m(\u001b[49m\u001b[43m)\u001b[49m\n\u001b[0;32m     30\u001b[0m     a\u001b[38;5;241m.\u001b[39mempty_img()\n",
      "Cell \u001b[1;32mIn[5], line 21\u001b[0m, in \u001b[0;36mimg_devide.set_image\u001b[1;34m(self)\u001b[0m\n\u001b[0;32m     20\u001b[0m \u001b[38;5;28;01mdef\u001b[39;00m \u001b[38;5;21mset_image\u001b[39m(\u001b[38;5;28mself\u001b[39m):\n\u001b[1;32m---> 21\u001b[0m     \u001b[38;5;28mself\u001b[39m\u001b[38;5;241m.\u001b[39mimg \u001b[38;5;241m=\u001b[39m \u001b[43mImage\u001b[49m\u001b[38;5;241;43m.\u001b[39;49m\u001b[43mopen\u001b[49m\u001b[43m(\u001b[49m\u001b[38;5;28;43mself\u001b[39;49m\u001b[38;5;241;43m.\u001b[39;49m\u001b[43mimg_path\u001b[49m\u001b[43m \u001b[49m\u001b[38;5;241;43m+\u001b[39;49m\u001b[43m \u001b[49m\u001b[38;5;28;43mstr\u001b[39;49m\u001b[43m(\u001b[49m\u001b[38;5;28;43mself\u001b[39;49m\u001b[38;5;241;43m.\u001b[39;49m\u001b[43mi\u001b[49m\u001b[43m)\u001b[49m\u001b[43m \u001b[49m\u001b[38;5;241;43m+\u001b[39;49m\u001b[43m \u001b[49m\u001b[38;5;124;43m\"\u001b[39;49m\u001b[38;5;124;43m.jpg\u001b[39;49m\u001b[38;5;124;43m\"\u001b[39;49m\u001b[43m)\u001b[49m \u001b[38;5;66;03m# 파일의 경로 및 이름\u001b[39;00m\n\u001b[0;32m     22\u001b[0m     \u001b[38;5;28mself\u001b[39m\u001b[38;5;241m.\u001b[39mwidth \u001b[38;5;241m=\u001b[39m \u001b[38;5;28mself\u001b[39m\u001b[38;5;241m.\u001b[39mimg\u001b[38;5;241m.\u001b[39msize[\u001b[38;5;241m0\u001b[39m]\n\u001b[0;32m     23\u001b[0m     \u001b[38;5;28mself\u001b[39m\u001b[38;5;241m.\u001b[39mheight \u001b[38;5;241m=\u001b[39m \u001b[38;5;28mself\u001b[39m\u001b[38;5;241m.\u001b[39mimg\u001b[38;5;241m.\u001b[39msize[\u001b[38;5;241m1\u001b[39m]\n",
      "File \u001b[1;32m~\\AppData\\Local\\Programs\\Python\\Python311\\Lib\\site-packages\\PIL\\Image.py:3218\u001b[0m, in \u001b[0;36mopen\u001b[1;34m(fp, mode, formats)\u001b[0m\n\u001b[0;32m   3215\u001b[0m     filename \u001b[38;5;241m=\u001b[39m fp\n\u001b[0;32m   3217\u001b[0m \u001b[38;5;28;01mif\u001b[39;00m filename:\n\u001b[1;32m-> 3218\u001b[0m     fp \u001b[38;5;241m=\u001b[39m \u001b[43mbuiltins\u001b[49m\u001b[38;5;241;43m.\u001b[39;49m\u001b[43mopen\u001b[49m\u001b[43m(\u001b[49m\u001b[43mfilename\u001b[49m\u001b[43m,\u001b[49m\u001b[43m \u001b[49m\u001b[38;5;124;43m\"\u001b[39;49m\u001b[38;5;124;43mrb\u001b[39;49m\u001b[38;5;124;43m\"\u001b[39;49m\u001b[43m)\u001b[49m\n\u001b[0;32m   3219\u001b[0m     exclusive_fp \u001b[38;5;241m=\u001b[39m \u001b[38;5;28;01mTrue\u001b[39;00m\n\u001b[0;32m   3221\u001b[0m \u001b[38;5;28;01mtry\u001b[39;00m:\n",
      "\u001b[1;31mFileNotFoundError\u001b[0m: [Errno 2] No such file or directory: 'C:\\\\Users\\\\user\\\\Desktop\\\\Python_Data\\\\img\\\\0816\\\\1.jpg'"
     ]
    }
   ],
   "source": [
    "from PIL import Image\n",
    "import os\n",
    "\n",
    "class img_devide():\n",
    "    def __init__(self, img_path, i):\n",
    "        self.img_path = img_path\n",
    "        self.path = ''\n",
    "        self.lengh = 0\n",
    "        self.width = 0\n",
    "        self.height = 0\n",
    "        self.img = ''\n",
    "        self.i = i\n",
    "\n",
    "    def empty_img(self):\n",
    "        area = (25, 446, 1049, 1473) # 시작 x좌표, 시작 y좌표, 끝 x좌표, 끝 y좌표\n",
    "        cropped_img = self.img.crop(area) # 파일을 area 영역만큼 crop(이미지를 자름)\n",
    "        cropped_img.save(str(self.img_path) + '\\\\cut\\\\'+str(self.i)+'.jpg')\n",
    "        # 자른 파일을 원하는 위치에 원하는 이름으로 저장\n",
    "\n",
    "    def set_image(self):\n",
    "        self.img = Image.open(self.img_path + str(self.i) + \".jpg\") # 파일의 경로 및 이름\n",
    "        self.width = self.img.size[0]\n",
    "        self.height = self.img.size[1]\n",
    "        self.lengh = int(self.width / self.height)\n",
    "\n",
    "\n",
    "for i in range(1,3105):\n",
    "    a = img_devide(\"C:\\\\Users\\\\user\\\\Desktop\\\\Python_Data\\\\img\\\\0816\\\\\", i) # 파일의 경로\n",
    "    a.set_image()\n",
    "    a.empty_img()\n",
    "    "
   ]
  },
  {
   "cell_type": "code",
   "execution_count": null,
   "id": "2ccec70b-de34-4a19-9549-4e2b6832dcda",
   "metadata": {},
   "outputs": [],
   "source": []
  }
 ],
 "metadata": {
  "kernelspec": {
   "display_name": "Python 3 (ipykernel)",
   "language": "python",
   "name": "python3"
  },
  "language_info": {
   "codemirror_mode": {
    "name": "ipython",
    "version": 3
   },
   "file_extension": ".py",
   "mimetype": "text/x-python",
   "name": "python",
   "nbconvert_exporter": "python",
   "pygments_lexer": "ipython3",
   "version": "3.11.4"
  }
 },
 "nbformat": 4,
 "nbformat_minor": 5
}
