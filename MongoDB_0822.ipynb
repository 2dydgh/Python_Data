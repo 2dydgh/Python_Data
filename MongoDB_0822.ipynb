{
 "cells": [
  {
   "cell_type": "code",
   "execution_count": 1,
   "id": "63e1fa94-f8ba-4e7c-8094-acd89f1b00f9",
   "metadata": {},
   "outputs": [
    {
     "name": "stdout",
     "output_type": "stream",
     "text": [
      "Collecting pymongo\n",
      "  Obtaining dependency information for pymongo from https://files.pythonhosted.org/packages/ca/8a/fd22c1b57f9effe50a5db1373b135e6ce85593e79e6c0af6e7bfad5d8cba/pymongo-4.4.1-cp311-cp311-win_amd64.whl.metadata\n",
      "  Downloading pymongo-4.4.1-cp311-cp311-win_amd64.whl.metadata (9.2 kB)\n",
      "Collecting dnspython<3.0.0,>=1.16.0 (from pymongo)\n",
      "  Obtaining dependency information for dnspython<3.0.0,>=1.16.0 from https://files.pythonhosted.org/packages/f6/b4/0a9bee52c50f226a3cbfb54263d02bb421c7f2adc136520729c2c689c1e5/dnspython-2.4.2-py3-none-any.whl.metadata\n",
      "  Downloading dnspython-2.4.2-py3-none-any.whl.metadata (4.9 kB)\n",
      "Downloading pymongo-4.4.1-cp311-cp311-win_amd64.whl (408 kB)\n",
      "   ---------------------------------------- 0.0/408.2 kB ? eta -:--:--\n",
      "   --------------------------------------- 408.2/408.2 kB 12.8 MB/s eta 0:00:00\n",
      "Downloading dnspython-2.4.2-py3-none-any.whl (300 kB)\n",
      "   ---------------------------------------- 0.0/300.4 kB ? eta -:--:--\n",
      "   ---------------------------------------- 300.4/300.4 kB ? eta 0:00:00\n",
      "Installing collected packages: dnspython, pymongo\n",
      "Successfully installed dnspython-2.4.2 pymongo-4.4.1\n",
      "Note: you may need to restart the kernel to use updated packages.\n"
     ]
    }
   ],
   "source": [
    "pip install pymongo"
   ]
  },
  {
   "cell_type": "code",
   "execution_count": 2,
   "id": "4b7f20cd-2455-48e0-84ed-f1359bf89f87",
   "metadata": {},
   "outputs": [],
   "source": [
    "from pymongo import MongoClient"
   ]
  },
  {
   "cell_type": "code",
   "execution_count": 3,
   "id": "8a4833dc-87db-4991-959d-33be0c64b516",
   "metadata": {},
   "outputs": [],
   "source": [
    "client = MongoClient('mongodb://localhost:27017/')"
   ]
  },
  {
   "cell_type": "code",
   "execution_count": 7,
   "id": "a0510e65-2f82-4bdf-9817-4a1d11ea3bcd",
   "metadata": {},
   "outputs": [],
   "source": [
    "import requests\n",
    "response = requests.get(\"https://jsonplaceholder.typicode.com/todos\")\n",
    "todos = response.json()"
   ]
  },
  {
   "cell_type": "code",
   "execution_count": 8,
   "id": "879855c4-be90-4c32-bf5e-1b29dbdff97b",
   "metadata": {},
   "outputs": [
    {
     "data": {
      "text/plain": [
       "<pymongo.results.InsertManyResult at 0x25239ae8f70>"
      ]
     },
     "execution_count": 8,
     "metadata": {},
     "output_type": "execute_result"
    }
   ],
   "source": [
    "from pymongo import MongoClient\n",
    "client = MongoClient('localhost', 27017)\n",
    "db = client['test_db']\n",
    "todos_collection = db['todos']\n",
    "# 데이터를 MongoDB에 저장하기\n",
    "todos_collection.insert_many(todos)"
   ]
  },
  {
   "cell_type": "code",
   "execution_count": 9,
   "id": "85379cb5-8998-4054-a6e9-ccf62f409b1e",
   "metadata": {},
   "outputs": [
    {
     "data": {
      "text/plain": [
       "<pymongo.results.InsertOneResult at 0x25239517e50>"
      ]
     },
     "execution_count": 9,
     "metadata": {},
     "output_type": "execute_result"
    }
   ],
   "source": [
    "new_todo = {\n",
    " \"userId\": 11, \"id\": 201, \"title\": \"Learn MongoDB\",\n",
    " \"completed\": False\n",
    "}\n",
    "todos_collection.insert_one(new_todo)"
   ]
  }
 ],
 "metadata": {
  "kernelspec": {
   "display_name": "Python 3 (ipykernel)",
   "language": "python",
   "name": "python3"
  },
  "language_info": {
   "codemirror_mode": {
    "name": "ipython",
    "version": 3
   },
   "file_extension": ".py",
   "mimetype": "text/x-python",
   "name": "python",
   "nbconvert_exporter": "python",
   "pygments_lexer": "ipython3",
   "version": "3.11.4"
  }
 },
 "nbformat": 4,
 "nbformat_minor": 5
}
